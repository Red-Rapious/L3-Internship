{
 "cells": [
  {
   "cell_type": "markdown",
   "metadata": {},
   "source": [
    "# Layer-wise Relevance Propagation using Abstract Semiring elements for the MNIST Dataset"
   ]
  },
  {
   "cell_type": "code",
   "execution_count": 1,
   "metadata": {},
   "outputs": [
    {
     "data": {
      "text/plain": [
       "<module 'ProvLRP' from '/Users/antoinegroudiev/Documents/Travail/L3-Internship/code/ProvLRP.py'>"
      ]
     },
     "execution_count": 1,
     "metadata": {},
     "output_type": "execute_result"
    }
   ],
   "source": [
    "import torch\n",
    "from torch import nn\n",
    "from torch.utils.data import DataLoader\n",
    "\n",
    "from torchvision import datasets\n",
    "from torchvision.transforms import ToTensor\n",
    "\n",
    "import numpy as np\n",
    "\n",
    "import matplotlib.pyplot as plt\n",
    "from matplotlib.colors import ListedColormap\n",
    "\n",
    "import ProvLRP\n",
    "import ProvLRP_config\n",
    "from importlib import reload\n",
    "reload(ProvLRP)"
   ]
  },
  {
   "cell_type": "markdown",
   "metadata": {},
   "source": [
    "## 0. Load dataset"
   ]
  },
  {
   "cell_type": "code",
   "execution_count": 2,
   "metadata": {},
   "outputs": [],
   "source": [
    "# Load dataset\n",
    "\n",
    "train = datasets.MNIST(\n",
    "    root=\"data\",\n",
    "    train=True,\n",
    "    download=True,\n",
    "    transform=ToTensor(),\n",
    "    target_transform=None\n",
    ")\n",
    "\n",
    "test = datasets.MNIST(\n",
    "    root=\"data\",\n",
    "    train=False,\n",
    "    download=True,\n",
    "    transform=ToTensor(),\n",
    ")"
   ]
  },
  {
   "cell_type": "code",
   "execution_count": 5,
   "metadata": {},
   "outputs": [],
   "source": [
    "BATCH_SIZE = 32\n",
    "\n",
    "train_dataloader = DataLoader(\n",
    "    train,\n",
    "    batch_size=BATCH_SIZE,\n",
    "    shuffle=True\n",
    ")\n",
    "\n",
    "test_dataloader = DataLoader(\n",
    "    test,\n",
    "    batch_size=BATCH_SIZE,\n",
    "    shuffle=False\n",
    ")"
   ]
  },
  {
   "cell_type": "markdown",
   "metadata": {},
   "source": [
    "## 1. Train simple model"
   ]
  },
  {
   "cell_type": "code",
   "execution_count": 6,
   "metadata": {},
   "outputs": [
    {
     "name": "stdout",
     "output_type": "stream",
     "text": [
      "Using device: mps\n"
     ]
    }
   ],
   "source": [
    "# Select the best device to use\n",
    "\n",
    "if torch.backends.mps.is_available() and torch.backends.mps.is_built():\n",
    "    device = torch.device('mps')\n",
    "elif torch.cuda.is_available():\n",
    "    device = torch.device('cuda')\n",
    "else:\n",
    "    device = torch.device('cpu')\n",
    "\n",
    "print(f'Using device: {device}')"
   ]
  },
  {
   "cell_type": "code",
   "execution_count": 7,
   "metadata": {},
   "outputs": [],
   "source": [
    "def accuracy_fn(y_true, y_pred):\n",
    "    correct = torch.eq(y_true, y_pred).sum().item()\n",
    "    return correct / len(y_pred) * 100"
   ]
  },
  {
   "cell_type": "code",
   "execution_count": 82,
   "metadata": {},
   "outputs": [],
   "source": [
    "def train_model(model, optimizer, loss_fn):\n",
    "    epochs = 1#3\n",
    "\n",
    "    for epoch in range(epochs):\n",
    "        print(f\"[EPOCH {epoch+1}/{epochs}] \", end=\"\")\n",
    "        train_loss = 0\n",
    "\n",
    "        for batch, (X, y) in enumerate(train_dataloader):\n",
    "            X, y = X.to(device), y.to(device)\n",
    "            model.train()\n",
    "\n",
    "            y_pred = model(X)\n",
    "\n",
    "            loss = loss_fn(y_pred, y)\n",
    "            train_loss += loss\n",
    "\n",
    "            optimizer.zero_grad()\n",
    "\n",
    "            loss.backward()\n",
    "\n",
    "            optimizer.step()\n",
    "\n",
    "        train_loss /= len(train_dataloader)\n",
    "\n",
    "        test_loss, test_acc = 0, 0\n",
    "        model.eval()\n",
    "        with torch.inference_mode():\n",
    "            for X, y in test_dataloader:\n",
    "                X, y = X.to(device), y.to(device)\n",
    "                test_pred = model(X)\n",
    "\n",
    "                test_loss += loss_fn(test_pred, y)\n",
    "                test_acc += accuracy_fn(y, test_pred.argmax (dim=1))\n",
    "\n",
    "            test_loss /= len(test_dataloader)\n",
    "            test_acc /= len(test_dataloader)\n",
    "\n",
    "        print(f\"Train loss: {train_loss:.5f} | Test loss: {test_loss:.5f}, Test acc: {test_acc:.2f}%\")"
   ]
  },
  {
   "cell_type": "code",
   "execution_count": 103,
   "metadata": {},
   "outputs": [],
   "source": [
    "# Build the model\n",
    "inputs = 784\n",
    "hidden1 = 300\n",
    "hidden2 = 100\n",
    "outputs = 10\n",
    "\n",
    "assert(outputs == len(train.classes))\n",
    "\n",
    "model = nn.Sequential(\n",
    "    nn.Flatten(),\n",
    "    nn.Linear(inputs, hidden1),\n",
    "    nn.ReLU(),\n",
    "    nn.Linear(hidden1, hidden2),\n",
    "    nn.ReLU(),\n",
    "    nn.Linear(hidden2, outputs)\n",
    ").to(device)\n",
    "\n",
    "loss_fn = nn.CrossEntropyLoss()\n",
    "optimizer = torch.optim.SGD(params=model.parameters(), lr=0.1)"
   ]
  },
  {
   "cell_type": "code",
   "execution_count": 104,
   "metadata": {},
   "outputs": [
    {
     "name": "stdout",
     "output_type": "stream",
     "text": [
      "[EPOCH 1/1] Train loss: 0.35428 | Test loss: 0.15230, Test acc: 95.15%\n"
     ]
    }
   ],
   "source": [
    "train_model(model, optimizer, loss_fn)"
   ]
  },
  {
   "cell_type": "markdown",
   "metadata": {},
   "source": [
    "## 3. Network pruning using Semiring-based LRP"
   ]
  },
  {
   "cell_type": "code",
   "execution_count": 51,
   "metadata": {},
   "outputs": [],
   "source": [
    "nb_digits = len(train.classes)\n",
    "\n",
    "# Extract weights and biases of trained MLP\n",
    "layers = list(filter(None, [layer if isinstance(layer, nn.Linear) else None for layer in model.children()]))\n",
    "W = [layer.weight.to('cpu').detach().numpy().T for layer in layers]\n",
    "B = [layer.bias.to('cpu').detach().numpy().T for layer in layers]\n",
    "L = len(W)\n",
    "\n",
    "X = train.data.reshape((60000, 784)).detach().numpy()\n",
    "T = train.targets.detach().numpy()\n",
    "\n",
    "SUBSET = 20\n",
    "X = X[:SUBSET]\n",
    "T = T[:SUBSET]\n",
    "\n",
    "# Forward pass\n",
    "A = [X] + [None] * L\n",
    "for l in range(L):\n",
    "    A[l+1] = np.maximum(0, A[l].dot(W[l])+B[l])"
   ]
  },
  {
   "cell_type": "code",
   "execution_count": 52,
   "metadata": {},
   "outputs": [],
   "source": [
    "reload(ProvLRP)\n",
    "reload(ProvLRP_config)\n",
    "semiring = ProvLRP.BooleanSemiring\n",
    "\n",
    "ProvLRP_config.boolean_relevance_threshold = 0.5\n",
    "\n",
    "ProvLRP_config.boolean_activation_threshold = 1\n",
    "ProvLRP_config.boolean_weight_threshold = 0\n",
    "\n",
    "R_bool = [None] * L + [semiring.from_relevance(A[L] * (T[:,None]==np.arange(nb_digits)))]\n",
    "\n",
    "# All layers, even the pixels one\n",
    "for l in range(0, L)[::-1]:\n",
    "    w = semiring.from_weight(W[l])\n",
    "\n",
    "    s = R_bool[l+1]\n",
    "    c = s.dot(w.T)\n",
    "    R_bool[l] = semiring.from_activation(A[l]) * c"
   ]
  },
  {
   "cell_type": "code",
   "execution_count": 53,
   "metadata": {},
   "outputs": [
    {
     "data": {
      "image/png": "[encoded data removed]",
      "text/plain": [
       "<Figure size 640x480 with 2 Axes>"
      ]
     },
     "metadata": {},
     "output_type": "display_data"
    },
    {
     "data": {
      "image/png": "[encoded data removed]",
      "text/plain": [
       "<Figure size 640x480 with 2 Axes>"
      ]
     },
     "metadata": {},
     "output_type": "display_data"
    },
    {
     "data": {
      "image/png": "[encoded data removed]",
      "text/plain": [
       "<Figure size 640x480 with 2 Axes>"
      ]
     },
     "metadata": {},
     "output_type": "display_data"
    },
    {
     "data": {
      "image/png": "[encoded data removed]",
      "text/plain": [
       "<Figure size 640x480 with 2 Axes>"
      ]
     },
     "metadata": {},
     "output_type": "display_data"
    },
    {
     "data": {
      "image/png": "[encoded data removed]",
      "text/plain": [
       "<Figure size 640x480 with 2 Axes>"
      ]
     },
     "metadata": {},
     "output_type": "display_data"
    }
   ],
   "source": [
    "Rf = [semiring.semiring_to_float(x) for x in R_bool]\n",
    "\n",
    "DIGITS = 5\n",
    "for i in range(DIGITS):\n",
    "    image = Rf[0][T==i][0].reshape((28, 28))\n",
    "\n",
    "    fig, axs = plt.subplots(1, 2)\n",
    "    for j in range(2):\n",
    "        axs[j].set_xticks([]); axs[j].set_yticks([])\n",
    "\n",
    "    axs[0].imshow(X[T==i][0].reshape((28, 28)), cmap=\"gray\")\n",
    "    axs[0].set_title(\"Reference\")\n",
    "\n",
    "    axs[1].imshow(image, cmap=\"gray\", vmin=0, vmax=1)\n",
    "    axs[1].set_title(\"Boolean Semiring\")\n",
    "\n",
    "    plt.show()"
   ]
  },
  {
   "cell_type": "code",
   "execution_count": 105,
   "metadata": {},
   "outputs": [],
   "source": [
    "import torch.nn.utils.prune as prune\n",
    "import torch.nn.functional as F"
   ]
  },
  {
   "cell_type": "code",
   "execution_count": 106,
   "metadata": {},
   "outputs": [],
   "source": [
    "def eval_model(m):\n",
    "    test_loss, test_acc = 0, 0\n",
    "    m.eval()\n",
    "    with torch.inference_mode():\n",
    "        for x, y in test_dataloader:\n",
    "            x, y = x.to(device), y.to(device)\n",
    "            test_pred = m(x)\n",
    "\n",
    "            test_loss += loss_fn(test_pred, y)\n",
    "            test_acc += accuracy_fn(y, test_pred.argmax (dim=1))\n",
    "\n",
    "        test_loss /= len(test_dataloader)\n",
    "        test_acc /= len(test_dataloader)\n",
    "\n",
    "    print(f\"Test loss: {test_loss:.3f} | Test accuracy: {test_acc:.2f}%\")"
   ]
  },
  {
   "cell_type": "code",
   "execution_count": 112,
   "metadata": {},
   "outputs": [
    {
     "name": "stdout",
     "output_type": "stream",
     "text": [
      "[EPOCH 1/1] Train loss: 2.30793 | Test loss: 2.30753, Test acc: 8.38%\n"
     ]
    }
   ],
   "source": [
    "model = nn.Sequential(\n",
    "    nn.Flatten(),\n",
    "    nn.Linear(inputs, hidden1),\n",
    "    nn.ReLU(),\n",
    "    nn.Linear(hidden1, hidden2),\n",
    "    nn.ReLU(),\n",
    "    nn.Linear(hidden2, outputs)\n",
    ").to(device)\n",
    "train_model(model, optimizer, loss_fn)"
   ]
  },
  {
   "cell_type": "code",
   "execution_count": 113,
   "metadata": {},
   "outputs": [
    {
     "name": "stdout",
     "output_type": "stream",
     "text": [
      "Test loss: 2.308 | Test accuracy: 8.38%\n",
      "Test loss: 2.304 | Test accuracy: 10.76%\n"
     ]
    }
   ],
   "source": [
    "eval_model(model)\n",
    "linear1 = list(model.modules())[2]\n",
    "linear2 = list(model.modules())[4]\n",
    "\n",
    "prune.ln_structured(linear1, name=\"weight\", amount=0.9, n=2, dim=0)\n",
    "prune.ln_structured(linear2, name=\"weight\", amount=0.9, n=2, dim=0)\n",
    "prune.remove(linear1, name=\"weight\")\n",
    "prune.remove(linear2, name=\"weight\")\n",
    "eval_model(model)"
   ]
  }
 ],
 "metadata": {
  "kernelspec": {
   "display_name": "Python 3",
   "language": "python",
   "name": "python3"
  },
  "language_info": {
   "codemirror_mode": {
    "name": "ipython",
    "version": 3
   },
   "file_extension": ".py",
   "mimetype": "text/x-python",
   "name": "python",
   "nbconvert_exporter": "python",
   "pygments_lexer": "ipython3",
   "version": "3.11.7"
  }
 },
 "nbformat": 4,
 "nbformat_minor": 2
}
