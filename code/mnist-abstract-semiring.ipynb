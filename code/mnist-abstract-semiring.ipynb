{
 "cells": [
  {
   "cell_type": "markdown",
   "metadata": {},
   "source": [
    "# Layer-wise Relevance Propagation using Abstract Semiring elements for the MNIST Dataset"
   ]
  },
  {
   "cell_type": "code",
   "execution_count": 133,
   "metadata": {},
   "outputs": [],
   "source": [
    "import torch\n",
    "from torch import nn\n",
    "\n",
    "from torchvision import datasets\n",
    "from torchvision.transforms import ToTensor\n",
    "\n",
    "from torch.utils.data import DataLoader\n",
    "\n",
    "import matplotlib.pyplot as plt\n",
    "from matplotlib.colors import ListedColormap\n",
    "\n",
    "import numpy as np"
   ]
  },
  {
   "cell_type": "markdown",
   "metadata": {},
   "source": [
    "### Semiring elements"
   ]
  },
  {
   "cell_type": "code",
   "execution_count": 134,
   "metadata": {},
   "outputs": [],
   "source": [
    "class MultipleInitialisation(Exception):\n",
    "    pass\n",
    "\n",
    "class Semiring():\n",
    "    #value = None\n",
    "\n",
    "    def __init__(self, relevance=None, activation=None, weight=None, standard=None):\n",
    "        if relevance is not None:\n",
    "            #assert type(relevance)==np.float32 or type(relevance)==float or type(relevance)==np.float64, f\"must be of type float, is of type {type(relevance)}\"\n",
    "            self.value = relevance\n",
    "            if activation is not None or weight is not None or standard is not None:\n",
    "                raise MultipleInitialisation\n",
    "        if activation is not None:\n",
    "            #assert type(activation)==np.float32 or type(activation)==float or type(activation)==np.float64, f\"must be of type float, is of type {type(activation)}\"\n",
    "            self.value = activation\n",
    "            if relevance is not None or weight is not None or standard is not None:\n",
    "                raise MultipleInitialisation\n",
    "        if weight is not None:\n",
    "            #assert type(weight)==np.float32 or type(weight)==float or type(weight)==np.float64, f\"must be of type float, is of type {type(weight)}\"\n",
    "            self.value = weight\n",
    "            if relevance is not None or activation is not None or standard is not None:\n",
    "                raise MultipleInitialisation\n",
    "        if standard is not None:\n",
    "            #assert type(standard)==np.uint8 or type(standard)==np.float32 or type(standard)==float or type(standard)==np.float64, f\"must be of type float, is of type {type(standard)}\"\n",
    "            self.value = standard\n",
    "            if relevance is not None or activation is not None or weight is not None:\n",
    "                raise MultipleInitialisation\n",
    "\n",
    "    def __mul__(self, b):\n",
    "        f = self.value * b.value\n",
    "        s = Semiring()\n",
    "        s.value = f\n",
    "        return s\n",
    "    \n",
    "    def mul(a, b):\n",
    "        f = a.value * b.value\n",
    "        s = Semiring()\n",
    "        s.value = f\n",
    "        return s\n",
    "    \n",
    "    def to_float(self):\n",
    "        return self.value\n",
    "    \n",
    "    def __add__(self, b):\n",
    "        f = self.value + b.value\n",
    "        s = Semiring()\n",
    "        s.value = f\n",
    "        return s\n",
    "    \n",
    "    def __sub__(self, b):\n",
    "        f = self.value - b.value\n",
    "        s = Semiring()\n",
    "        s.value = f\n",
    "        return s\n",
    "    \n",
    "    def pos(self):\n",
    "        f = max(0, self.value)\n",
    "        s = Semiring()\n",
    "        s.value = f\n",
    "        return s\n",
    "\n",
    "    def neg(self):\n",
    "        f = min(0, self.value)\n",
    "        s = Semiring()\n",
    "        s.value = f\n",
    "        return s\n",
    "    \n",
    "#from_relevance = np.vectorize(lambda x : Semiring(relevance=x))\n",
    "from_activation = np.vectorize(lambda x : Semiring(activation=x))\n",
    "from_weight = np.vectorize(lambda x : Semiring(weight=x))\n",
    "identity = np.vectorize(lambda x : Semiring(standard=x))\n",
    "pos = np.vectorize(lambda x : x.pos())\n",
    "neg = np.vectorize(lambda x : x.neg())\n",
    "\n",
    "def from_relevance(m):\n",
    "    return np.array([[Semiring(activation=m[x][y]) for y in range(m.shape[1])] for x in range(m.shape[0])])\n",
    "\n",
    "def semiring_to_float(m):\n",
    "    return np.array([[m[x][y].to_float() for y in range(m.shape[1])] for x in range(m.shape[0])])\n",
    "\n",
    "def lower_bound(A):\n",
    "    return np.vectorize(identity)(A[0]*0)\n",
    "def upper_bound(A):\n",
    "    return np.vectorize(identity)(A[0]*0+1)"
   ]
  },
  {
   "cell_type": "markdown",
   "metadata": {},
   "source": [
    "### Load datset"
   ]
  },
  {
   "cell_type": "code",
   "execution_count": 135,
   "metadata": {},
   "outputs": [],
   "source": [
    "# Load dataset\n",
    "\n",
    "train = datasets.MNIST(\n",
    "    root=\"data\",\n",
    "    train=True,\n",
    "    download=True,\n",
    "    transform=ToTensor(),\n",
    "    target_transform=None\n",
    ")\n",
    "\n",
    "test = datasets.MNIST(\n",
    "    root=\"data\",\n",
    "    train=False,\n",
    "    download=True,\n",
    "    transform=ToTensor(),\n",
    ")"
   ]
  },
  {
   "cell_type": "code",
   "execution_count": 136,
   "metadata": {},
   "outputs": [
    {
     "name": "stdout",
     "output_type": "stream",
     "text": [
      "Image shape: torch.Size([1, 28, 28])\n"
     ]
    },
    {
     "data": {
      "text/plain": [
       "Text(0.5, 1.0, '5')"
      ]
     },
     "execution_count": 136,
     "metadata": {},
     "output_type": "execute_result"
    },
    {
     "data": {
      "image/png": "[encoded data removed]",
      "text/plain": [
       "<Figure size 640x480 with 1 Axes>"
      ]
     },
     "metadata": {},
     "output_type": "display_data"
    }
   ],
   "source": [
    "image, label = train[0]\n",
    "print(f\"Image shape: {image.shape}\")\n",
    "plt.imshow(image.squeeze(), cmap=\"gray\")\n",
    "plt.title(label)"
   ]
  },
  {
   "cell_type": "code",
   "execution_count": 137,
   "metadata": {},
   "outputs": [],
   "source": [
    "BATCH_SIZE = 32\n",
    "\n",
    "train_dataloader = DataLoader(\n",
    "    train,\n",
    "    batch_size=BATCH_SIZE,\n",
    "    shuffle=True\n",
    ")\n",
    "\n",
    "test_dataloader = DataLoader(\n",
    "    test,\n",
    "    batch_size=BATCH_SIZE,\n",
    "    shuffle=False\n",
    ")"
   ]
  },
  {
   "cell_type": "code",
   "execution_count": 138,
   "metadata": {},
   "outputs": [
    {
     "data": {
      "text/plain": [
       "(torch.Size([32, 1, 28, 28]), torch.Size([32]))"
      ]
     },
     "execution_count": 138,
     "metadata": {},
     "output_type": "execute_result"
    }
   ],
   "source": [
    "train_features_batch, train_labels_batch = next(iter(train_dataloader))\n",
    "train_features_batch.shape, train_labels_batch.shape"
   ]
  },
  {
   "cell_type": "markdown",
   "metadata": {},
   "source": [
    "### Train simple model"
   ]
  },
  {
   "cell_type": "code",
   "execution_count": 139,
   "metadata": {},
   "outputs": [],
   "source": [
    "device = torch.device('mps')"
   ]
  },
  {
   "cell_type": "code",
   "execution_count": 140,
   "metadata": {},
   "outputs": [],
   "source": [
    "def accuracy_fn(y_true, y_pred):\n",
    "    correct = torch.eq(y_true, y_pred).sum().item()\n",
    "    return correct / len(y_pred) * 100"
   ]
  },
  {
   "cell_type": "code",
   "execution_count": 141,
   "metadata": {},
   "outputs": [],
   "source": [
    "def train_model(model, optimizer, loss_fn):\n",
    "    torch.manual_seed(42)\n",
    "    epochs = 1#3\n",
    "\n",
    "    for epoch in range(epochs):\n",
    "        print(f\"[EPOCH {epoch+1}/{epochs}] \", end=\"\")\n",
    "        train_loss = 0\n",
    "\n",
    "        for batch, (X, y) in enumerate(train_dataloader):\n",
    "            X, y = X.to(device), y.to(device)\n",
    "            model.train()\n",
    "\n",
    "            y_pred = model(X)\n",
    "\n",
    "            loss = loss_fn(y_pred, y)\n",
    "            train_loss += loss\n",
    "\n",
    "            optimizer.zero_grad()\n",
    "\n",
    "            loss.backward()\n",
    "\n",
    "            optimizer.step()\n",
    "\n",
    "        train_loss /= len(train_dataloader)\n",
    "\n",
    "        test_loss, test_acc = 0, 0\n",
    "        model.eval()\n",
    "        with torch.inference_mode():\n",
    "            for X, y in test_dataloader:\n",
    "                X, y = X.to(device), y.to(device)\n",
    "                test_pred = model(X)\n",
    "\n",
    "                test_loss += loss_fn(test_pred, y)\n",
    "                test_acc += accuracy_fn(y, test_pred.argmax (dim=1))\n",
    "\n",
    "            test_loss /= len(test_dataloader)\n",
    "            test_acc /= len(test_dataloader)\n",
    "\n",
    "        print(f\"Train loss: {train_loss:.5f} | Test loss: {test_loss:.5f}, Test acc: {test_acc:.2f}%\")"
   ]
  },
  {
   "cell_type": "code",
   "execution_count": 142,
   "metadata": {},
   "outputs": [],
   "source": [
    "# Build the model\n",
    "inputs = 784\n",
    "hidden1 = 300\n",
    "hidden2 = 100\n",
    "outputs = 10\n",
    "\n",
    "assert(outputs == len(train.classes))\n",
    "\n",
    "model = nn.Sequential(\n",
    "    nn.Flatten(),\n",
    "    nn.ReLU(),\n",
    "    nn.Linear(inputs, hidden1),\n",
    "    nn.ReLU(),\n",
    "    nn.Linear(hidden1, hidden2),\n",
    "    nn.ReLU(),\n",
    "    nn.Linear(hidden2, outputs)\n",
    ").to(device)\n",
    "\n",
    "loss_fn = nn.CrossEntropyLoss()\n",
    "optimizer = torch.optim.SGD(params=model.parameters(), lr=0.1)"
   ]
  },
  {
   "cell_type": "code",
   "execution_count": 143,
   "metadata": {},
   "outputs": [
    {
     "name": "stdout",
     "output_type": "stream",
     "text": [
      "[EPOCH 1/1] Train loss: 0.35457 | Test loss: 0.14672, Test acc: 95.43%\n"
     ]
    }
   ],
   "source": [
    "train_model(model, optimizer, loss_fn)"
   ]
  },
  {
   "cell_type": "markdown",
   "metadata": {},
   "source": [
    "### Layer-wise Relevance Propagation"
   ]
  },
  {
   "cell_type": "markdown",
   "metadata": {},
   "source": [
    "#### Preparing for LRP"
   ]
  },
  {
   "cell_type": "code",
   "execution_count": 144,
   "metadata": {},
   "outputs": [],
   "source": [
    "# Extract weights and biases of trained MLP\n",
    "layers = list(filter(None, [layer if isinstance(layer, nn.Linear) else None for layer in model.children()]))\n",
    "W = [layer.weight.to('cpu').detach().numpy().T for layer in layers]\n",
    "B = [layer.bias.to('cpu').detach().numpy().T for layer in layers]\n",
    "L = len(W)"
   ]
  },
  {
   "cell_type": "code",
   "execution_count": 145,
   "metadata": {},
   "outputs": [],
   "source": [
    "SUBSET = 20\n",
    "\n",
    "X = train.data.reshape((60000, 784)).detach().numpy()\n",
    "X = X[:SUBSET]\n",
    "T = train.targets.detach().numpy()\n",
    "T = T[:SUBSET]"
   ]
  },
  {
   "cell_type": "code",
   "execution_count": 146,
   "metadata": {},
   "outputs": [
    {
     "data": {
      "text/plain": [
       "<matplotlib.image.AxesImage at 0x3314b6c10>"
      ]
     },
     "execution_count": 146,
     "metadata": {},
     "output_type": "execute_result"
    },
    {
     "data": {
      "image/png": "[encoded data removed]",
      "text/plain": [
       "<Figure size 640x480 with 1 Axes>"
      ]
     },
     "metadata": {},
     "output_type": "display_data"
    }
   ],
   "source": [
    "# Test if reshaping went correctly\n",
    "image = X[0]\n",
    "plt.imshow(image.reshape((28, 28)), cmap=\"gray\")"
   ]
  },
  {
   "cell_type": "code",
   "execution_count": 147,
   "metadata": {},
   "outputs": [],
   "source": [
    "# Forward pass\n",
    "A = [X] + [None] * L\n",
    "for l in range(L):\n",
    "    A[l+1] = np.maximum(0, A[l].dot(W[l])+B[l])"
   ]
  },
  {
   "cell_type": "code",
   "execution_count": 148,
   "metadata": {},
   "outputs": [
    {
     "name": "stdout",
     "output_type": "stream",
     "text": [
      "Pred: 5 | Label: 5\n"
     ]
    }
   ],
   "source": [
    "i = np.random.randint(0, 10)\n",
    "prediction = A[L][i]\n",
    "print(f\"Pred: {np.argmax(prediction)} | Label: {train.targets[i]}\")"
   ]
  },
  {
   "cell_type": "markdown",
   "metadata": {},
   "source": [
    "#### Actual LRP"
   ]
  },
  {
   "cell_type": "code",
   "execution_count": 149,
   "metadata": {},
   "outputs": [],
   "source": [
    "nb_digits = len(train.classes)\n",
    "R = [None] * L + [from_relevance(A[L] * (T[:,None]==np.arange(nb_digits)))]\n",
    "#R = [None] * L + [A[L]]"
   ]
  },
  {
   "cell_type": "markdown",
   "metadata": {},
   "source": [
    "General rule for the hidden and output layers:\n",
    "$$\n",
    "R^{(l)}_j = \\bigoplus_k \\Theta_a(a^{(l)}_j) \\otimes\\Theta_w(w^{(l)}_{jk}) \\otimes R^{(l+1)}_k\n",
    "$$"
   ]
  },
  {
   "cell_type": "code",
   "execution_count": 150,
   "metadata": {},
   "outputs": [],
   "source": [
    "def rho(w, l):  \n",
    "    return w #+ [None,0.1,0.0][l] * np.maximum(0,w)\n",
    "#def incr(z, l): \n",
    "#    return z + [None,0.1,0.0][l] * (z**2).mean()**.5+1e-9"
   ]
  },
  {
   "cell_type": "markdown",
   "metadata": {},
   "source": [
    "Four steps of computing the relevance:\n",
    "$$\n",
    "\\begin{align*}\n",
    "\\forall k:~s_k &= \\Theta_R(R_k) \\qquad & (\\text{step }1)\\\\\n",
    "\\forall j:~c_j &= \\bigoplus_k \\rho(\\Theta_w(w_{jk})) \\otimes s_k \\qquad & (\\text{step }2)\\\\\n",
    "\\forall j:~R_j &= \\Theta_A(a_j) \\otimes c_j \\qquad & (\\text{step }3)\n",
    "\\end{align*}\n",
    "$$"
   ]
  },
  {
   "cell_type": "code",
   "execution_count": 151,
   "metadata": {},
   "outputs": [],
   "source": [
    "# All layers except the pixels one\n",
    "for l in range(1, L)[::-1]:\n",
    "    w = rho(from_weight(W[l]), l)\n",
    "    #b = rho(B[l], l)\n",
    "\n",
    "    #z = incr(A[l].dot(w)+b, l)\n",
    "    s = R[l+1] #/ z\n",
    "    c = s.dot(w.T)\n",
    "    R[l] = from_activation(A[l]) * c"
   ]
  },
  {
   "cell_type": "markdown",
   "metadata": {},
   "source": [
    "$z^\\mathcal{B}$ rule for the input layer:\n",
    "$$R_i = \\sum_j \\frac{a_i w_{ij} - l_i w_{ij}^+ - h_i w_{ij}^-}{\\sum_{i} a_i w_{ij} - l_i w_{ij}^+ - h_i w_{ij}^-} R_j$$"
   ]
  },
  {
   "cell_type": "code",
   "execution_count": 152,
   "metadata": {},
   "outputs": [],
   "source": [
    "w = from_weight(W[0])\n",
    "wp = pos(w)\n",
    "wm = neg(w)\n",
    "lb = lower_bound(A)\n",
    "hb = upper_bound(A)\n",
    "\n",
    "s = R[1]\n",
    "c = s @ w.T\n",
    "cp = s @ (wp.T)\n",
    "cm = s @ (wm.T)\n",
    "R[0] = from_activation(A[0])*c - lb*cp - hb*cm"
   ]
  },
  {
   "cell_type": "code",
   "execution_count": 154,
   "metadata": {},
   "outputs": [
    {
     "data": {
      "image/png": "[encoded data removed]",
      "text/plain": [
       "<Figure size 640x480 with 2 Axes>"
      ]
     },
     "metadata": {},
     "output_type": "display_data"
    },
    {
     "data": {
      "image/png": "[encoded data removed]",
      "text/plain": [
       "<Figure size 640x480 with 2 Axes>"
      ]
     },
     "metadata": {},
     "output_type": "display_data"
    },
    {
     "data": {
      "image/png": "[encoded data removed]",
      "text/plain": [
       "<Figure size 640x480 with 2 Axes>"
      ]
     },
     "metadata": {},
     "output_type": "display_data"
    },
    {
     "data": {
      "image/png": "[encoded data removed]",
      "text/plain": [
       "<Figure size 640x480 with 2 Axes>"
      ]
     },
     "metadata": {},
     "output_type": "display_data"
    },
    {
     "data": {
      "image/png": "[encoded data removed]",
      "text/plain": [
       "<Figure size 640x480 with 2 Axes>"
      ]
     },
     "metadata": {},
     "output_type": "display_data"
    },
    {
     "data": {
      "image/png": "[encoded data removed]",
      "text/plain": [
       "<Figure size 640x480 with 2 Axes>"
      ]
     },
     "metadata": {},
     "output_type": "display_data"
    },
    {
     "data": {
      "image/png": "[encoded data removed]",
      "text/plain": [
       "<Figure size 640x480 with 2 Axes>"
      ]
     },
     "metadata": {},
     "output_type": "display_data"
    },
    {
     "data": {
      "image/png": "[encoded data removed]",
      "text/plain": [
       "<Figure size 640x480 with 2 Axes>"
      ]
     },
     "metadata": {},
     "output_type": "display_data"
    },
    {
     "data": {
      "image/png": "[encoded data removed]",
      "text/plain": [
       "<Figure size 640x480 with 2 Axes>"
      ]
     },
     "metadata": {},
     "output_type": "display_data"
    },
    {
     "data": {
      "image/png": "[encoded data removed]",
      "text/plain": [
       "<Figure size 640x480 with 2 Axes>"
      ]
     },
     "metadata": {},
     "output_type": "display_data"
    }
   ],
   "source": [
    "Rf = [semiring_to_float(x) for x in R]\n",
    "\n",
    "for i in range(10):\n",
    "    image = Rf[0][T==i][0].reshape((28, 28))\n",
    "\n",
    "    b = 10*(np.abs(image)**3.0).mean()**(1.0/3)\n",
    "\n",
    "    my_cmap = plt.cm.seismic(np.arange(plt.cm.seismic.N))\n",
    "    my_cmap[:,0:3] *= 0.85\n",
    "    my_cmap = ListedColormap(my_cmap)\n",
    "    fig, axs = plt.subplots(1, 2)\n",
    "\n",
    "    axs[0].imshow(X[T==i][0].reshape((28, 28)), cmap=\"gray\")\n",
    "    axs[1].imshow(image,cmap=my_cmap,vmin=-b,vmax=b,interpolation='nearest')\n",
    "    plt.show()"
   ]
  }
 ],
 "metadata": {
  "kernelspec": {
   "display_name": "Python 3",
   "language": "python",
   "name": "python3"
  },
  "language_info": {
   "codemirror_mode": {
    "name": "ipython",
    "version": 3
   },
   "file_extension": ".py",
   "mimetype": "text/x-python",
   "name": "python",
   "nbconvert_exporter": "python",
   "pygments_lexer": "ipython3",
   "version": "3.11.7"
  }
 },
 "nbformat": 4,
 "nbformat_minor": 2
}
