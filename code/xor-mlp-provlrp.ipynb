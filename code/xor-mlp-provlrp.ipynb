{
 "cells": [
  {
   "cell_type": "code",
   "execution_count": 38,
   "metadata": {},
   "outputs": [],
   "source": [
    "import torch\n",
    "from torch import nn\n",
    "import matplotlib.pyplot as plt\n",
    "\n",
    "from helper_functions import plot_decision_boundary"
   ]
  },
  {
   "cell_type": "code",
   "execution_count": 9,
   "metadata": {},
   "outputs": [],
   "source": [
    "data = torch.tensor(\n",
    "    [\n",
    "        [0., 0.],\n",
    "        [0., 1.],\n",
    "        [1., 0.],\n",
    "        [1., 1.]\n",
    "    ]\n",
    ")\n",
    "labels = torch.tensor([0., 1., 1., 0.])"
   ]
  },
  {
   "cell_type": "code",
   "execution_count": 98,
   "metadata": {},
   "outputs": [],
   "source": [
    "hidden = 3\n",
    "model = nn.Sequential(\n",
    "    nn.Linear(2, hidden),\n",
    "    nn.ReLU(),\n",
    "    nn.Linear(hidden, 1)\n",
    ")\n",
    "loss_fn = nn.BCEWithLogitsLoss()\n",
    "optimizer = torch.optim.SGD(model.parameters(), lr=0.1)\n",
    "\n",
    "def accuracy_fn(y_true, y_pred):\n",
    "    correct = torch.eq(y_true, y_pred).sum().item()\n",
    "    return correct / len(y_pred) * 100"
   ]
  },
  {
   "cell_type": "code",
   "execution_count": 99,
   "metadata": {},
   "outputs": [
    {
     "name": "stdout",
     "output_type": "stream",
     "text": [
      "[EPOCH 1/1000] Loss: 0.7476738095283508 | Accuracy: 25.0\n",
      "[EPOCH 101/1000] Loss: 0.541828453540802 | Accuracy: 75.0\n",
      "[EPOCH 201/1000] Loss: 0.31106051802635193 | Accuracy: 50.0\n",
      "[EPOCH 301/1000] Loss: 0.15971091389656067 | Accuracy: 0.0\n",
      "[EPOCH 401/1000] Loss: 0.08884327113628387 | Accuracy: 0.0\n",
      "[EPOCH 501/1000] Loss: 0.056600820273160934 | Accuracy: 0.0\n",
      "[EPOCH 601/1000] Loss: 0.03959127515554428 | Accuracy: 0.0\n",
      "[EPOCH 701/1000] Loss: 0.029537690803408623 | Accuracy: 0.0\n",
      "[EPOCH 801/1000] Loss: 0.023164823651313782 | Accuracy: 0.0\n",
      "[EPOCH 901/1000] Loss: 0.018786972388625145 | Accuracy: 0.0\n"
     ]
    }
   ],
   "source": [
    "epochs = 1000\n",
    "for epoch in range(epochs):\n",
    "    y_logits = model(data).squeeze()\n",
    "    y_preds = torch.round(y_logits)\n",
    "    \n",
    "    loss = loss_fn(y_logits, labels)\n",
    "    acc = accuracy_fn(labels, y_preds)\n",
    "\n",
    "    if epoch % (epochs//10) == 0:\n",
    "        print(f\"[EPOCH {epoch+1}/{epochs}] Loss: {loss} | Accuracy: {acc}\")\n",
    "\n",
    "    optimizer.zero_grad()\n",
    "    loss.backward()\n",
    "    optimizer.step()\n",
    "\n",
    "    model.eval()"
   ]
  },
  {
   "cell_type": "code",
   "execution_count": 100,
   "metadata": {},
   "outputs": [
    {
     "data": {
      "image/png": "[encoded data removed]",
      "text/plain": [
       "<Figure size 400x400 with 1 Axes>"
      ]
     },
     "metadata": {},
     "output_type": "display_data"
    }
   ],
   "source": [
    "plt.figure(figsize=(4, 4))\n",
    "plt.title(\"XOR\")\n",
    "plot_decision_boundary(model, data, labels)"
   ]
  }
 ],
 "metadata": {
  "kernelspec": {
   "display_name": "Python 3",
   "language": "python",
   "name": "python3"
  },
  "language_info": {
   "codemirror_mode": {
    "name": "ipython",
    "version": 3
   },
   "file_extension": ".py",
   "mimetype": "text/x-python",
   "name": "python",
   "nbconvert_exporter": "python",
   "pygments_lexer": "ipython3",
   "version": "3.11.7"
  }
 },
 "nbformat": 4,
 "nbformat_minor": 2
}
